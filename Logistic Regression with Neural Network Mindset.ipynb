{
 "cells": [
  {
   "cell_type": "code",
   "execution_count": 7,
   "metadata": {},
   "outputs": [],
   "source": [
    "import numpy as np\n",
    "import matplotlib.pyplot as plt\n",
    "import h5py\n",
    "import scipy\n",
    "from PIL import Image\n",
    "from scipy import ndimage\n",
    "from lr_utils import load_dataset\n"
   ]
  },
  {
   "cell_type": "code",
   "execution_count": 8,
   "metadata": {},
   "outputs": [],
   "source": [
    "#Loading the data\n",
    "train_set_x_orig, train_set_y, test_set_x_orig, test_set_y, classes= load_dataset();"
   ]
  },
  {
   "cell_type": "code",
   "execution_count": 28,
   "metadata": {},
   "outputs": [
    {
     "name": "stdout",
     "output_type": "stream",
     "text": [
      "y= [1], it's a 'cat' picture\n"
     ]
    },
    {
     "data": {
      "image/png": "[encoded data removed]",
      "text/plain": [
       "<Figure size 432x288 with 1 Axes>"
      ]
     },
     "metadata": {
      "needs_background": "light"
     },
     "output_type": "display_data"
    }
   ],
   "source": [
    "#example of a picture\n",
    "index= 25\n",
    "#print(train_set_x_orig[index]) # this is the pixel data\n",
    "plt.imshow(train_set_x_orig[index]) # this is the picture\n",
    "print(\"y= \" + str(train_set_y[:, index]) + \", it's a '\" + classes[np.squeeze(train_set_y[:, index])].decode(\"utf-8\")+ \"' picture\");\n"
   ]
  },
  {
   "cell_type": "code",
   "execution_count": 17,
   "metadata": {},
   "outputs": [
    {
     "name": "stdout",
     "output_type": "stream",
     "text": [
      "Number of training exmaples: m_train = 209\n",
      "Number of testing exmaples: m_test = 50\n",
      "Height/Width of each image: num_px = 64\n",
      "Each image is of size: (64, 64, 3)\n",
      "train_set_x_shape:(209, 64, 64, 3)\n",
      "test_set_x_shape:(50, 64, 64, 3)\n",
      "train_set_y_shape:(1, 209)\n",
      "test_set_y_shape:(1, 50)\n"
     ]
    }
   ],
   "source": [
    "# fIND THE VALUES FOR M_TRAIN (NUMBER TRAINING EXAMPLES)\n",
    "#m_test (number of test exmaples)\n",
    "#num_px (= height= width of training image)\n",
    "\n",
    "\n",
    "#finds the vector dimensions to eliminate potential bugs in the future\n",
    "\n",
    "m_train = train_set_x_orig.shape[0];\n",
    "m_test= test_set_x_orig.shape[0];\n",
    "num_px = train_set_x_orig.shape[1]\n",
    "\n",
    "\n",
    "print(\"Number of training exmaples: m_train = \" +str(m_train))\n",
    "print(\"Number of testing exmaples: m_test = \" +str(m_test))\n",
    "print(\"Height/Width of each image: num_px = \" +str(num_px))\n",
    "print(\"Each image is of size: (\" + str(num_px) + \", \"+ str(num_px) + \", 3)\")\n",
    "print(\"train_set_x_shape:\" + str(train_set_x_orig.shape))\n",
    "print(\"test_set_x_shape:\" + str(test_set_x_orig.shape))\n",
    "print(\"train_set_y_shape:\" + str(train_set_y.shape))\n",
    "print(\"test_set_y_shape:\" + str(test_set_y.shape))"
   ]
  },
  {
   "cell_type": "code",
   "execution_count": 19,
   "metadata": {},
   "outputs": [],
   "source": [
    "# For convenience, the vectoir should be shaped from (num_px,num_px,3) into (num_px * num_px *3,1) this puts everything into one column\n",
    "#Reshapes the training and test data sets so that images of size (num_px,num_px,3) are flattened into a single vector\n",
    "\n",
    "#X_flatten=X.reshape(X.shape[0], -1).T #X.T is the transpose of X"
   ]
  },
  {
   "cell_type": "code",
   "execution_count": 20,
   "metadata": {},
   "outputs": [
    {
     "name": "stdout",
     "output_type": "stream",
     "text": [
      "train_set_x_flatten shape: (12288, 209)\n",
      "train_set_y shape: (1, 209)\n",
      "test_set_x_flatten shape: (12288, 50)\n",
      "test_set_y_flatten shape: (1, 50)\n",
      "sanity check after reshaping: [17 31 56 22 33]\n"
     ]
    }
   ],
   "source": [
    "#Reshape the training and test examples\n",
    "\n",
    "train_set_x_flatten = train_set_x_orig.reshape(m_train, -1).T\n",
    "test_set_x_flatten = test_set_x_orig.reshape(m_test, -1).T\n",
    "\n",
    "\n",
    "print(\"train_set_x_flatten shape: \" + str(train_set_x_flatten.shape))\n",
    "print(\"train_set_y shape: \" + str(train_set_y.shape))\n",
    "print(\"test_set_x_flatten shape: \" + str(test_set_x_flatten.shape))\n",
    "print(\"test_set_y_flatten shape: \" + str(test_set_y.shape))\n",
    "print(\"sanity check after reshaping: \" +str(str(train_set_x_flatten[0:5,0])))"
   ]
  },
  {
   "cell_type": "code",
   "execution_count": 22,
   "metadata": {},
   "outputs": [],
   "source": [
    "# color images, RGB must be specified for each pixel ,so the pixel value is a vector of three number ranging from 0 to 255\n",
    "#One step is standardizing your dataset so you subtract the mean of the whole numpy array from each example then divide by the stf\n",
    "#FOR PICTURE DATASETS IT'S EAST TO DIVIDE EVERY ROW OF THE DATASET BY 255\n",
    "\n",
    "\n",
    "\n",
    "\n",
    "#standardize the dataset\n",
    "train_set_x= train_set_x_flatten /255;\n",
    "test_set_x= test_set_x_flatten / 255;"
   ]
  },
  {
   "cell_type": "code",
   "execution_count": 26,
   "metadata": {},
   "outputs": [
    {
     "name": "stdout",
     "output_type": "stream",
     "text": [
      "[0.12156863 0.75294118 0.27843137 0.08627451 0.03529412 0.30980392\n",
      " 0.22352941 0.08627451 0.26666667 0.18431373 0.70588235 0.02352941\n",
      " 0.6        0.0627451  0.29411765 0.76078431 0.99607843 0.85490196\n",
      " 0.78431373 0.00784314 0.09019608 0.25098039 0.69803922 0.75686275\n",
      " 0.40784314 0.05882353 0.45490196 0.14117647 0.09803922 0.70980392\n",
      " 0.11372549 0.74509804 0.91764706 0.40784314 0.62352941 0.13333333\n",
      " 0.15294118 0.6745098  0.11764706 0.40784314 0.65098039 0.02352941\n",
      " 0.12941176 1.         0.41176471 0.         0.23529412 0.18823529\n",
      " 0.15294118 0.15294118 0.65882353 0.56078431 0.3254902  0.1254902\n",
      " 0.04705882 1.         0.12156863 0.53333333 0.28235294 0.16862745\n",
      " 0.25882353 0.46666667 0.50196078 0.50196078 0.16862745 0.37647059\n",
      " 0.90588235 0.27058824 0.5254902  0.42745098 0.0627451  0.01960784\n",
      " 0.03529412 0.32941176 0.4        0.43529412 0.1254902  0.0627451\n",
      " 0.19215686 0.08235294 0.44313725 0.7372549  0.1372549  0.99215686\n",
      " 0.47843137 0.16862745 0.1254902  0.19215686 0.50196078 0.16078431\n",
      " 0.46666667 0.27058824 0.10980392 0.43529412 0.54901961 0.37254902\n",
      " 0.60784314 0.74509804 0.52941176 0.28235294 0.70196078 0.3372549\n",
      " 0.09019608 0.47843137 0.12941176 0.51764706 0.6745098  0.49411765\n",
      " 0.27058824 0.25098039 0.52941176 0.63137255 0.10588235 0.73333333\n",
      " 0.55686275 0.78431373 0.2627451  0.2627451  0.91764706 0.76078431\n",
      " 0.51372549 0.4        0.30196078 0.4        0.61176471 0.26666667\n",
      " 0.15686275 0.08235294 0.47843137 0.0627451  0.30588235 0.93333333\n",
      " 0.30588235 0.00392157 0.03137255 1.         0.33333333 0.80784314\n",
      " 0.38823529 0.6745098  0.         0.68627451 0.97254902 0.0745098\n",
      " 0.12156863 0.50588235 0.50588235 0.43529412 0.15686275 0.63137255\n",
      " 0.75686275 0.03921569 0.21176471 0.6627451  0.10588235 0.50588235\n",
      " 0.10588235 0.22745098 0.6745098  0.05098039 0.16078431 0.29803922\n",
      " 0.33333333 0.43137255 0.60784314 0.20392157 0.90196078 0.54509804\n",
      " 0.03921569 0.2627451  0.83137255 0.64705882 0.58823529 0.52156863\n",
      " 0.09803922 0.03137255 0.45882353 0.52156863 0.15294118 0.34901961\n",
      " 0.94901961 0.00784314 0.32156863 0.31764706 0.42352941 0.63137255\n",
      " 0.14901961 0.16470588 0.78823529 0.70588235 0.50196078 0.99215686\n",
      " 0.60784314 0.74117647 0.12156863 0.         0.36470588 0.28235294\n",
      " 0.4        0.19607843 1.         0.22352941 0.61960784 0.43529412\n",
      " 0.78431373 0.04313725 0.60784314 0.09411765 0.10980392]\n"
     ]
    }
   ],
   "source": [
    "print(train_set_x[1]) #visualizing the standardized pixels for image number 1"
   ]
  },
  {
   "cell_type": "code",
   "execution_count": 29,
   "metadata": {},
   "outputs": [],
   "source": [
    "#Steps we've done so far are:\n",
    "#1. Figure out the dimensions of the shapes of the problem\n",
    "#2. reshape the datasets such that each example is now a vector of size( num_px *num_px*3,1)\n",
    "#3. Standardize the data\n"
   ]
  },
  {
   "cell_type": "code",
   "execution_count": 33,
   "metadata": {},
   "outputs": [
    {
     "data": {
      "text/plain": [
       "'\\nEach pixel can be seen as a node that contributes to the final probablity that the image is a cat\\n\\n'"
      ]
     },
     "execution_count": 33,
     "metadata": {},
     "output_type": "execute_result"
    }
   ],
   "source": [
    "#Logistic regression is a simple neural network\n",
    "\"\"\"\n",
    "Each pixel can be seen as a node that contributes to the final probablity that the image is a cat\n",
    "\n",
    "\"\"\""
   ]
  },
  {
   "cell_type": "code",
   "execution_count": null,
   "metadata": {},
   "outputs": [],
   "source": [
    "\"\"\"\n",
    "STEPS FOR BUILDING A NN\n",
    "\n",
    "1. Define the model structure( such as number of input features)\n",
    "2. Initialize the models parameters\n",
    "3. Loop\n",
    " calculate current loss (forward propogation)\n",
    " calculate current gradient (backward propogation)\n",
    " update parameters (gradient descent)\n",
    " \n",
    "\"\"\""
   ]
  },
  {
   "cell_type": "code",
   "execution_count": 31,
   "metadata": {},
   "outputs": [],
   "source": [
    "#Make some helper functions to be called later4\n",
    "\n",
    "#Sigmoid function\n",
    "\n",
    "def sigmoid(z):\n",
    "    \"\"\"\n",
    "    compute the sigmoid of z\n",
    "    \n",
    "    Arguments:\n",
    "    z-- a scalar or numpy array oif any size\n",
    "    \n",
    "    Return:\n",
    "    s-- sigmoid (z)\n",
    "    \n",
    "    \n",
    "    \"\"\"\n",
    "    \n",
    "    \n",
    "    s=1/ (1+ np.exp(-z));\n",
    "    \n",
    "    return s;"
   ]
  },
  {
   "cell_type": "code",
   "execution_count": 32,
   "metadata": {},
   "outputs": [
    {
     "name": "stdout",
     "output_type": "stream",
     "text": [
      "sigmoid([0, 2]) = [0.5        0.88079708]\n"
     ]
    }
   ],
   "source": [
    "print(\"sigmoid([0, 2]) = \" +str(sigmoid(np.array([0,2])))) testing out sigmoid function"
   ]
  },
  {
   "cell_type": "code",
   "execution_count": 34,
   "metadata": {},
   "outputs": [],
   "source": [
    "#INitializing paramters\n",
    "\n",
    "\n",
    "def initialize_with_zeros(dim):\n",
    "    \"\"\"\n",
    "    this function creates a vector of zeros of shape (dim, 1) for w and intializes b to 0\n",
    "    \n",
    "    Arguments:\n",
    "    dim - - size of the w vector we want (or number of parameters in this case)\n",
    "    \n",
    "    REturns:\n",
    "    w -- intialized vector of shape (dim,1)\n",
    "    b -- intialized scalar (corresponds to the bias)\n",
    "        \n",
    "    \"\"\"\n",
    "    \n",
    "    w= np.zeros((dim,1));\n",
    "    b=0;\n",
    "    \n",
    "    assert(w.shape == (dim,1));\n",
    "    assert(isinstance(b, float) or isinstance(b, int));\n",
    "    \n",
    "    return w, b;"
   ]
  },
  {
   "cell_type": "code",
   "execution_count": 37,
   "metadata": {},
   "outputs": [
    {
     "name": "stdout",
     "output_type": "stream",
     "text": [
      " w= [[0.]\n",
      " [0.]]\n",
      "b= 0\n"
     ]
    }
   ],
   "source": [
    "dim = 2;\n",
    "w,b = initialize_with_zeros(dim);\n",
    "print(\" w= \" +str(w));\n",
    "print(\"b= \" + str(b));\n",
    "\n",
    "#For image inputs, w will be of shape(numpx*numpx*3,1)"
   ]
  },
  {
   "cell_type": "code",
   "execution_count": 40,
   "metadata": {},
   "outputs": [],
   "source": [
    "# Forward and Backward propgation\n",
    "\n",
    "def propagate(w, b, X, Y):\n",
    "    \"\"\"\n",
    "    Implement the cost function and its gradient for the propagation\n",
    "    \n",
    "    Arguments:\n",
    "    w -- weights, a numpy array of size (num_px*num_px*3,1)\n",
    "    b -- bias, a scalar\n",
    "    X -- data of size (num_px*num_px*3, number of examples)\n",
    "    Y --  true \"label\" vector (contraining 0 if non-cat, 1 if cat) of size (1, number of examples)\n",
    "    \n",
    "    return:\n",
    "    cost -- negative log-likelihood cost for logistic regression\n",
    "    dw -- gradient of the loss with respect to w, thus the same shape as w\n",
    "    db -- gradient of the loss with respect to b, thus the same shape as b\n",
    "    \n",
    "    \n",
    "    \"\"\"\n",
    "    \n",
    "    m = X.shape[1]\n",
    "    \n",
    "    #Forward propagation\n",
    "    a =  sigmoid(np.dot(w.T,X) +b) #the numpy way of saying W.T*X +b\n",
    "    cost = -1/m*(np.dot(Y, np.log(a).T)+ np.dot(1-Y, np.log(1-a).T));\n",
    "    # End Forward Propagation\n",
    "    \n",
    "    \n",
    "    #Backward Propagation (to find gradients)\n",
    "    dw= 1/m*np.dot(X, (a-Y).T);\n",
    "    db= 1/m * np.sum(a-Y);\n",
    "    #ends backward propagation\n",
    "    \n",
    "    assert(dw.shape == w.shape)\n",
    "    assert(db.dtype ==  float);\n",
    "    cost=np.squeeze(cost);\n",
    "    assert(cost.shape ==());\n",
    "    \n",
    "    grads = {\"dw\": dw,\n",
    "            \"db\": db};\n",
    "    \n",
    "    return grads, cost"
   ]
  },
  {
   "cell_type": "code",
   "execution_count": 41,
   "metadata": {},
   "outputs": [
    {
     "name": "stdout",
     "output_type": "stream",
     "text": [
      "dw= [[0.99845601]\n",
      " [2.39507239]]\n",
      "db = 0.001455578136784208\n",
      "cost = 5.801545319394553\n"
     ]
    }
   ],
   "source": [
    "import numpy as np;\n",
    "w,b,X,Y = np.array([[1.],[2.]]),2., np.array([[1.,2.,-1],[3.,4.,-3.2]]), np.array([[1,0,1]]);\n",
    "grads, cost = propagate(w,b, X, Y);\n",
    "print(\"dw= \" +str(grads[\"dw\"]));\n",
    "print(\"db = \" +str(grads[\"db\"]));\n",
    "print(\"cost = \" +str(cost));"
   ]
  },
  {
   "cell_type": "code",
   "execution_count": 46,
   "metadata": {},
   "outputs": [],
   "source": [
    "# the parameters have been initialized, Gradient descent can be computed\n",
    "#Now we want to update the parameters using gradient descent\n",
    "# optimization\n",
    "\n",
    "def optimize(w, b, X, Y, num_iterations, learning_rate, print_cost = False):\n",
    "    \"\"\"\n",
    "    this function optimizes w and b by running a gradient descent algorithm\n",
    "    \n",
    "    \n",
    "    Arguments:\n",
    "    w -- weights, a numpy array of size (num_px*num_px*3,1)\n",
    "    b -- bias, a scalar\n",
    "    X --  data of shape (num_px*num_px*3, number of examples)\n",
    "    Y -- true \"label\" vector (containing 0 if non-cat, 1 if cat), of shape (1, number of examples)\n",
    "    numb_iterations --  number of iterations of the optimization loop\n",
    "    learning_rate -- learning rate of the gradient descent update rule\n",
    "    print_cost -- True to print the loss every 100 steps\n",
    "    \n",
    "    Returns:\n",
    "    params -- dictionary containing the weights w and bias b\n",
    "    grads -- a dictionary containing the gradients of the weights and bias with respect to the cost function\n",
    "    costs -- list of all the costs computed during the optimization, this will be used to plot the learning curve.\n",
    "    \n",
    "    Tips:\n",
    "    1) Calculate the cost and gradient for the current parameters. Use Propagate().\n",
    "    2)Update the paramaeters using gradient descent rule for w and b.\n",
    "    \"\"\"\n",
    "    costs = []\n",
    "    \n",
    "    for i in range(num_iterations):\n",
    "        \n",
    "        #Cost and gradient calculation\n",
    "        grads, cost = propagate(w,b,X,Y)\n",
    "        \n",
    "        #retrieve derivatives from grads\n",
    "        dw = grads[\"dw\"]\n",
    "        db = grads[\"db\"]\n",
    "        \n",
    "        \n",
    "        #update rule\n",
    "        w -= learning_rate * dw;\n",
    "        b -= learning_rate * db;\n",
    "        \n",
    "        #Record the costs\n",
    "        if i%100 == 0:\n",
    "            costs.append(cost)\n",
    "            \n",
    "            #print every 100 training examples\n",
    "            if print_cost and i % 100 == 0:\n",
    "                print(\"Cost after iteration %i: %f\" %(i,cost))\n",
    "                \n",
    "    params = {\"w\": w,\n",
    "              \"b\": b}\n",
    "    grads =  {\"dw\": dw,\n",
    "              \"db\": db}\n",
    "    \n",
    "    return params, grads, costs\n",
    "    "
   ]
  },
  {
   "cell_type": "code",
   "execution_count": 49,
   "metadata": {},
   "outputs": [
    {
     "name": "stdout",
     "output_type": "stream",
     "text": [
      "w= [[-0.23898308]\n",
      " [-0.55175078]]\n",
      "b= 2.0273638929728355\n",
      "dw= [[0.0779727 ]\n",
      " [0.00737707]]\n",
      "db= -0.04751525979265005\n"
     ]
    }
   ],
   "source": [
    "params, grads, costs = optimize(w,b,X,Y, num_iterations = 100, learning_rate = 0.009, print_cost = False);\n",
    "print(\"w= \" + str(params[\"w\"]))\n",
    "print(\"b= \" + str(params[\"b\"]))\n",
    "print(\"dw= \" + str(grads[\"dw\"]))\n",
    "print(\"db= \" + str(grads[\"db\"]))"
   ]
  },
  {
   "cell_type": "code",
   "execution_count": 50,
   "metadata": {},
   "outputs": [],
   "source": [
    "# computing predictions\n",
    "#1. calculate Y= A= sigmoid(W.T*x+b)\n",
    "#convert entries of a into 0 if activation is less than 0.5 or 1 of activation is greater than 0.5, store the predictions \n",
    "# in a vector y_prediction\n"
   ]
  },
  {
   "cell_type": "code",
   "execution_count": 60,
   "metadata": {},
   "outputs": [],
   "source": [
    "# predict function\n",
    "def predict(w, b, X):\n",
    "    '''\n",
    "    Predict whether the label is 0 or 1 using learned logistic regression parameters (w,b)\n",
    "    \n",
    "    Arguments:\n",
    "    w --  weights, a numpy array of size (num_px*num_px*3,1)\n",
    "    b -- bias, a scalar\n",
    "    X -- data of size (num_px*num_px*3, number of examples)\n",
    "    \n",
    "    Returns:\n",
    "    Y_prediction -- a numpy array (vector) containing all predictions (0/1) for the examples in X\n",
    "    \n",
    "    '''\n",
    "    \n",
    "    m=X.shape[1]\n",
    "    Y_prediction= np.zeros((1,m))\n",
    "    w=w.reshape(X.shape[0],1)\n",
    "    \n",
    "    #compute vector \"A\" predicting the probabilities of a cat being present in the picture\n",
    "    A=sigmoid(np.dot(w.T,X) +b);\n",
    "    \n",
    "    \n",
    "    \n",
    "    for i in range(A.shape[1]):\n",
    "        \n",
    "        #convert probabilities A[0,i] to actual predictions p[0,i]\n",
    "        if A[0,i] > 0.5:\n",
    "            Y_prediction[0,i] =1;\n",
    "            \n",
    "        else:\n",
    "            Y_prediction[0,i] = 0;\n",
    "            \n",
    "    assert(Y_prediction.shape == (1,m));\n",
    "    \n",
    "    return Y_prediction;"
   ]
  },
  {
   "cell_type": "code",
   "execution_count": 61,
   "metadata": {},
   "outputs": [
    {
     "name": "stdout",
     "output_type": "stream",
     "text": [
      "predictions = [[1. 1. 0.]]\n"
     ]
    }
   ],
   "source": [
    "w = np.array([[0.1124579],[0.23106775]])\n",
    "b = -.03\n",
    "X=np.array([[1.,-1.1,-3.2], [1.2,2.,0.1]]);\n",
    "print(\"predictions = \" +str(predict(w, b, X)));\n"
   ]
  },
  {
   "cell_type": "code",
   "execution_count": 62,
   "metadata": {},
   "outputs": [
    {
     "data": {
      "text/plain": [
       "'\\nFunctions implemented so far\\ninitialize (w,b)\\noptimize the loss iteratively to learn parameters (w,b)\\ncomputing the cost and its gradient\\nupdating the parameters using gradient descent\\nuse the learned (w,b) to predict the labels for a given set of examples\\n\\n'"
      ]
     },
     "execution_count": 62,
     "metadata": {},
     "output_type": "execute_result"
    }
   ],
   "source": [
    "\"\"\"\n",
    "Functions implemented so far\n",
    "initialize (w,b)\n",
    "optimize the loss iteratively to learn parameters (w,b)\n",
    "computing the cost and its gradient\n",
    "updating the parameters using gradient descent\n",
    "use the learned (w,b) to predict the labels for a given set of examples\n",
    "\n",
    "\"\"\""
   ]
  },
  {
   "cell_type": "code",
   "execution_count": 73,
   "metadata": {},
   "outputs": [],
   "source": [
    "#Merging All functions into a MODEL\n",
    "\n",
    "def model(X_train, Y_train, X_test, Y_test, num_iterations =2000, learning_rate =0.5, print_cost = False):\n",
    "    \"\"\"\n",
    "    Builds the logistic regression model by calling the functions you've implemented previously\n",
    "    \n",
    "    Arguments:\n",
    "    x_train --  training set represented by a numpy array olf shape (num_px*num_px*3, m_train)\n",
    "    Y_train -- training labels represented by a numpy array (vector) of shape (1, m_train)\n",
    "    X_test --  tst set represented by a numpy array of shape (num_px*num_px*3, m_test)\n",
    "    Y_test -- test labels represented by a numpy array (vector) of shape (1, m_test)\n",
    "    num_iterations -- hyperparameter representing the number of iterations to optimize the parameters\n",
    "    learning_rate -- hyperparameter representing the learning rate used in the update rule of optimize()\n",
    "    print_cost -- set to true to print the cost every 100 iteration\n",
    "    \n",
    "    \n",
    "    returns :\n",
    "    d -- dictionary containing information about the model\n",
    "    \n",
    "    \"\"\"\n",
    "    \n",
    "    #Initialize parameters with zeros\n",
    "    w, b = initialize_with_zeros(X_train.shape[0]);\n",
    "    \n",
    "    #gradient descent\n",
    "    params, grads, costs, = optimize(w, b, X_train, Y_train, num_iterations, learning_rate, print_cost);\n",
    "    \n",
    "    #retrieve parameters w and b from dictionary \"parameters\"\n",
    "    w = params[\"w\"]\n",
    "    b = params[\"b\"]\n",
    "    \n",
    "    #predict test/train set examples\n",
    "    Y_prediction_train = predict(w, b, X_train);\n",
    "    Y_prediction_test = predict(w, b, X_test);\n",
    "    \n",
    "    \n",
    "    #print train/test Errors\n",
    "    print(\"train accuracy: {} %\".format(100 - np.mean(np.abs(Y_prediction_train - Y_train)) * 100))\n",
    "    print(\"test accuracy: {} %\".format(100 - np.mean(np.abs(Y_prediction_test - Y_test)) * 100))\n",
    "    \n",
    "    \n",
    "    d = {\"costs\": costs,\n",
    "         \"Y_prediction_train\": Y_prediction_train,\n",
    "         \"Y_prediction_test\": Y_prediction_test,\n",
    "         \"w\": w,\n",
    "         \"b\": b,\n",
    "         \"learning_rate\": learning_rate,\n",
    "         \"num_iterations\": num_iterations}\n",
    "    return d"
   ]
  },
  {
   "cell_type": "code",
   "execution_count": 74,
   "metadata": {},
   "outputs": [
    {
     "name": "stdout",
     "output_type": "stream",
     "text": [
      "Cost after iteration 0: 0.693147\n",
      "Cost after iteration 100: 0.584508\n",
      "Cost after iteration 200: 0.466949\n",
      "Cost after iteration 300: 0.376007\n",
      "Cost after iteration 400: 0.331463\n",
      "Cost after iteration 500: 0.303273\n",
      "Cost after iteration 600: 0.279880\n",
      "Cost after iteration 700: 0.260042\n",
      "Cost after iteration 800: 0.242941\n",
      "Cost after iteration 900: 0.228004\n",
      "Cost after iteration 1000: 0.214820\n",
      "Cost after iteration 1100: 0.203078\n",
      "Cost after iteration 1200: 0.192544\n",
      "Cost after iteration 1300: 0.183033\n",
      "Cost after iteration 1400: 0.174399\n",
      "Cost after iteration 1500: 0.166521\n",
      "Cost after iteration 1600: 0.159305\n",
      "Cost after iteration 1700: 0.152667\n",
      "Cost after iteration 1800: 0.146542\n",
      "Cost after iteration 1900: 0.140872\n",
      "train accuracy: 99.04306220095694 %\n",
      "test accuracy: 70.0 %\n"
     ]
    }
   ],
   "source": [
    "d= model(train_set_x, train_set_y, test_set_x, test_set_y, num_iterations = 2000, learning_rate = 0.005, print_cost = True);"
   ]
  },
  {
   "cell_type": "code",
   "execution_count": 77,
   "metadata": {},
   "outputs": [
    {
     "name": "stdout",
     "output_type": "stream",
     "text": [
      "y = 1, you predicted that it is a \"cat\" Picture\n"
     ]
    },
    {
     "data": {
      "image/png": "[encoded data removed]",
      "text/plain": [
       "<Figure size 432x288 with 1 Axes>"
      ]
     },
     "metadata": {
      "needs_background": "light"
     },
     "output_type": "display_data"
    }
   ],
   "source": [
    "#examples of predictions of the test set\n",
    "index=15;\n",
    "plt.imshow(test_set_x[:, index].reshape(num_px, num_px, 3));\n",
    "print(\"y = \" + str(test_set_y[0,index]) + \", you predicted that it is a \\\"\" + classes[int(d[\"Y_prediction_test\"][0,index])].decode(\"utf-8\") + \"\\\" Picture\");\n"
   ]
  },
  {
   "cell_type": "code",
   "execution_count": 78,
   "metadata": {},
   "outputs": [
    {
     "data": {
      "image/png": "[encoded data removed]",
      "text/plain": [
       "<Figure size 432x288 with 1 Axes>"
      ]
     },
     "metadata": {
      "needs_background": "light"
     },
     "output_type": "display_data"
    }
   ],
   "source": [
    "#Ploit the cost function and the gradients\n",
    "\n",
    "#PLot the learning Curves\n",
    "\n",
    "costs= np.squeeze(d['costs']);\n",
    "plt.plot(costs);\n",
    "plt.ylabel('costs')\n",
    "plt.xlabel(' iterations (per hundreds)');\n",
    "plt.title(\"Learning rate =\" + str(d[\"learning_rate\"]));\n",
    "plt.show();"
   ]
  },
  {
   "cell_type": "code",
   "execution_count": 80,
   "metadata": {},
   "outputs": [
    {
     "name": "stdout",
     "output_type": "stream",
     "text": [
      "learning rate is: 0.01\n",
      "train accuracy: 99.52153110047847 %\n",
      "test accuracy: 68.0 %\n",
      "\n",
      "-------------------------------------------------------\n",
      "\n",
      "learning rate is: 0.001\n",
      "train accuracy: 88.99521531100478 %\n",
      "test accuracy: 64.0 %\n",
      "\n",
      "-------------------------------------------------------\n",
      "\n",
      "learning rate is: 0.0001\n",
      "train accuracy: 68.42105263157895 %\n",
      "test accuracy: 36.0 %\n",
      "\n",
      "-------------------------------------------------------\n",
      "\n"
     ]
    },
    {
     "ename": "NameError",
     "evalue": "name 'show' is not defined",
     "output_type": "error",
     "traceback": [
      "\u001b[1;31m---------------------------------------------------------------------------\u001b[0m",
      "\u001b[1;31mNameError\u001b[0m                                 Traceback (most recent call last)",
      "\u001b[1;32m<ipython-input-80-b88b2dae3d2b>\u001b[0m in \u001b[0;36m<module>\u001b[1;34m\u001b[0m\n\u001b[0;32m     15\u001b[0m \u001b[0mframe\u001b[0m\u001b[1;33m=\u001b[0m \u001b[0mlegend\u001b[0m\u001b[1;33m.\u001b[0m\u001b[0mget_frame\u001b[0m\u001b[1;33m(\u001b[0m\u001b[1;33m)\u001b[0m\u001b[1;33m;\u001b[0m\u001b[1;33m\u001b[0m\u001b[1;33m\u001b[0m\u001b[0m\n\u001b[0;32m     16\u001b[0m \u001b[0mframe\u001b[0m\u001b[1;33m.\u001b[0m\u001b[0mset_facecolor\u001b[0m\u001b[1;33m(\u001b[0m\u001b[1;34m'0.50'\u001b[0m\u001b[1;33m)\u001b[0m\u001b[1;33m;\u001b[0m\u001b[1;33m\u001b[0m\u001b[1;33m\u001b[0m\u001b[0m\n\u001b[1;32m---> 17\u001b[1;33m \u001b[0mplt\u001b[0m\u001b[1;33m,\u001b[0m\u001b[0mshow\u001b[0m\u001b[1;33m(\u001b[0m\u001b[1;33m)\u001b[0m\u001b[1;33m\u001b[0m\u001b[1;33m\u001b[0m\u001b[0m\n\u001b[0m",
      "\u001b[1;31mNameError\u001b[0m: name 'show' is not defined"
     ]
    },
    {
     "data": {
      "image/png": "[encoded data removed]",
      "text/plain": [
       "<Figure size 432x288 with 1 Axes>"
      ]
     },
     "metadata": {
      "needs_background": "light"
     },
     "output_type": "display_data"
    }
   ],
   "source": [
    "learning_rates = [0.01, 0.001, 0.0001];\n",
    "models = {};\n",
    "for i in learning_rates:\n",
    "    print(\"learning rate is: \" + str(i));\n",
    "    models[str(i)] = model(train_set_x, train_set_y, test_set_x, test_set_y, num_iterations = 1500, learning_rate = i, print_cost= False);\n",
    "    print('\\n' + \"-------------------------------------------------------\" + '\\n')\n",
    "    \n",
    "for i in learning_rates:\n",
    "        plt.plot(np.squeeze(models[str(i)][\"costs\"]), label = str(models[str(i)][\"learning_rate\"]));\n",
    "        \n",
    "plt.ylabel('cost')\n",
    "plt.xlabel('iterations')\n",
    "\n",
    "legend = plt.legend(loc='upper center', shadow = True);\n",
    "frame= legend.get_frame();\n",
    "frame.set_facecolor('0.50');\n",
    "plt,show()"
   ]
  },
  {
   "cell_type": "code",
   "execution_count": 84,
   "metadata": {},
   "outputs": [
    {
     "ename": "AttributeError",
     "evalue": "module 'scipy.ndimage' has no attribute 'imread'",
     "output_type": "error",
     "traceback": [
      "\u001b[1;31m---------------------------------------------------------------------------\u001b[0m",
      "\u001b[1;31mAttributeError\u001b[0m                            Traceback (most recent call last)",
      "\u001b[1;32m<ipython-input-84-b22bced5404b>\u001b[0m in \u001b[0;36m<module>\u001b[1;34m\u001b[0m\n\u001b[0;32m      4\u001b[0m \u001b[1;31m#preprcoess image to fit algorithm\u001b[0m\u001b[1;33m\u001b[0m\u001b[1;33m\u001b[0m\u001b[1;33m\u001b[0m\u001b[0m\n\u001b[0;32m      5\u001b[0m \u001b[0mfname\u001b[0m\u001b[1;33m=\u001b[0m \u001b[1;34m\"images/\"\u001b[0m \u001b[1;33m+\u001b[0m \u001b[0mmy_image\u001b[0m\u001b[1;33m;\u001b[0m\u001b[1;33m\u001b[0m\u001b[1;33m\u001b[0m\u001b[0m\n\u001b[1;32m----> 6\u001b[1;33m \u001b[0mimage\u001b[0m\u001b[1;33m=\u001b[0m \u001b[0mnp\u001b[0m\u001b[1;33m.\u001b[0m\u001b[0marray\u001b[0m\u001b[1;33m(\u001b[0m\u001b[0mndimage\u001b[0m\u001b[1;33m.\u001b[0m\u001b[0mimread\u001b[0m\u001b[1;33m(\u001b[0m\u001b[0mfname\u001b[0m\u001b[1;33m,\u001b[0m \u001b[0mflatten\u001b[0m\u001b[1;33m=\u001b[0m\u001b[1;32mFalse\u001b[0m\u001b[1;33m)\u001b[0m\u001b[1;33m)\u001b[0m\u001b[1;33m;\u001b[0m\u001b[1;33m\u001b[0m\u001b[1;33m\u001b[0m\u001b[0m\n\u001b[0m\u001b[0;32m      7\u001b[0m \u001b[1;33m\u001b[0m\u001b[0m\n\u001b[0;32m      8\u001b[0m \u001b[0mmy_image\u001b[0m \u001b[1;33m=\u001b[0m \u001b[0mscipy\u001b[0m\u001b[1;33m.\u001b[0m\u001b[0mmisc\u001b[0m\u001b[1;33m.\u001b[0m\u001b[0mimresize\u001b[0m\u001b[1;33m(\u001b[0m\u001b[0mimage\u001b[0m\u001b[1;33m,\u001b[0m \u001b[0msize\u001b[0m\u001b[1;33m=\u001b[0m\u001b[1;33m(\u001b[0m\u001b[0mnum_px\u001b[0m\u001b[1;33m,\u001b[0m\u001b[0mnum_px\u001b[0m\u001b[1;33m)\u001b[0m\u001b[1;33m)\u001b[0m\u001b[1;33m.\u001b[0m\u001b[0mreshape\u001b[0m\u001b[1;33m(\u001b[0m\u001b[1;33m(\u001b[0m\u001b[1;36m1\u001b[0m\u001b[1;33m,\u001b[0m \u001b[0mnum_px\u001b[0m\u001b[1;33m*\u001b[0m\u001b[0mnum_px\u001b[0m\u001b[1;33m*\u001b[0m\u001b[1;36m3\u001b[0m\u001b[1;33m)\u001b[0m\u001b[1;33m)\u001b[0m\u001b[1;33m.\u001b[0m\u001b[0mT\u001b[0m\u001b[1;33m;\u001b[0m\u001b[1;33m\u001b[0m\u001b[1;33m\u001b[0m\u001b[0m\n",
      "\u001b[1;31mAttributeError\u001b[0m: module 'scipy.ndimage' has no attribute 'imread'"
     ]
    }
   ],
   "source": [
    "#Test with your own picture\n",
    "my_image = \"isacatornot.jpg\";\n",
    "\n",
    "#preprcoess image to fit algorithm\n",
    "fname= \"images/\" + my_image;\n",
    "image= np.array(ndimage.imread(fname, flatten=False));\n",
    "\n",
    "my_image = scipy.misc.imresize(image, size=(num_px,num_px)).reshape((1, num_px*num_px*3)).T;\n",
    "my_predicted_image = predict(d[\"w\"], d[\"b\"], my_image);\n",
    "\n",
    "\n",
    "plt.imshow(image)\n",
    "print(\"y = \" + str(np.squeeze(my_predicted_image)) + \", your algorithm predicts a \\\"\" + classes[int(np.squeeze(my_predicted_image)),].decode(\"utf-8\") + \"\\\" picture. \");"
   ]
  },
  {
   "cell_type": "code",
   "execution_count": null,
   "metadata": {},
   "outputs": [],
   "source": []
  }
 ],
 "metadata": {
  "kernelspec": {
   "display_name": "Python 3",
   "language": "python",
   "name": "python3"
  },
  "language_info": {
   "codemirror_mode": {
    "name": "ipython",
    "version": 3
   },
   "file_extension": ".py",
   "mimetype": "text/x-python",
   "name": "python",
   "nbconvert_exporter": "python",
   "pygments_lexer": "ipython3",
   "version": "3.7.6"
  }
 },
 "nbformat": 4,
 "nbformat_minor": 4
}
